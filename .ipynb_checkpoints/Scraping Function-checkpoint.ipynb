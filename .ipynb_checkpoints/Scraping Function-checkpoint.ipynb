{
 "cells": [
  {
   "cell_type": "markdown",
   "id": "6e60f19d",
   "metadata": {},
   "source": [
    "# Libraries"
   ]
  },
  {
   "cell_type": "code",
   "execution_count": 1,
   "id": "ec90016c",
   "metadata": {},
   "outputs": [],
   "source": [
    "import pandas as pd\n",
    "import requests\n",
    "from secrecy import API_TOKEN"
   ]
  },
  {
   "cell_type": "markdown",
   "id": "ab5b6522",
   "metadata": {},
   "source": [
    "# Creating Function For Web Scraping"
   ]
  },
  {
   "cell_type": "code",
   "execution_count": null,
   "id": "1402712c",
   "metadata": {},
   "outputs": [],
   "source": [
    "def get_stock_data(symbol: str):\n",
    "    # Define API URLs for different data\n",
    "    api_url = f'https://www.alphavantage.co/query?function=TIME_SERIES_DAILY_ADJUSTED&symbol={symbol}&outputsize=full&apikey={API_TOKEN}'\n",
    "    SMA_url = f'https://www.alphavantage.co/query?function=SMA&symbol={symbol}&interval=daily&time_period=60&series_type=open&apikey={API_TOKEN}'\n",
    "    RSI_url = f'https://www.alphavantage.co/query?function=RSI&symbol={symbol}&interval=daily&time_period=60&series_type=open&apikey={API_TOKEN}'\n",
    "    ADX_url = f'https://www.alphavantage.co/query?function=ADX&symbol={symbol}&interval=daily&time_period=60&apikey={API_TOKEN}'\n",
    "    CCI_url = f'https://www.alphavantage.co/query?function=CCI&symbol={symbol}&interval=daily&time_period=60&apikey={API_TOKEN}'\n",
    "    ATR_url = f'https://www.alphavantage.co/query?function=ATR&symbol={symbol}&interval=daily&time_period=60&apikey={API_TOKEN}'\n",
    "    EMA_url = f'https://www.alphavantage.co/query?function=EMA&symbol={symbol}&interval=daily&time_period=60&series_type=open&apikey={API_TOKEN}'\n",
    "    SPY_url = f'https://www.alphavantage.co/query?function=TIME_SERIES_DAILY_ADJUSTED&symbol=SPY&outputsize=full&apikey={API_TOKEN}'\n",
    "\n",
    "    # Send a GET request to the API and parse the JSON response\n",
    "    data = requests.get(api_url).json()\n",
    "    df = pd.DataFrame(data['Time Series (Daily)']).T\n",
    "\n",
    "    # Define new column names and assign them\n",
    "    new_column_names = ['open','high','low','close','adj_close','volume','dividend_amount','split_coeff']\n",
    "    df.columns = new_column_names\n",
    "\n",
    "    # Convert all column names to lower case\n",
    "    df.columns = df.columns.str.lower()\n",
    "\n",
    "    # Drop NA values and unnecessary columns\n",
    "    df.dropna(inplace=True)\n",
    "    df.drop(['dividend_amount', 'split_coeff'], axis=1, inplace=True)\n",
    "\n",
    "    # Get technical data and add to DataFrame\n",
    "    for url, col_name in zip([SMA_url, RSI_url, ADX_url, CCI_url, ATR_url, EMA_url], ['SMA', 'RSI', 'ADX', 'CCI', 'ATR', 'EMA']):\n",
    "        tech_data = requests.get(url).json()\n",
    "        df[col_name] = pd.DataFrame(tech_data['Technical Analysis: ' + col_name]).T\n",
    "\n",
    "    # Get SPY data and add to DataFrame\n",
    "    SPY = requests.get(SPY_url).json()\n",
    "    df['SPY'] = pd.DataFrame.from_dict(SPY['Time Series (Daily)']).T['5. adjusted close']\n",
    "\n",
    "    return df"
   ]
  }
 ],
 "metadata": {
  "kernelspec": {
   "display_name": "Python 3 (ipykernel)",
   "language": "python",
   "name": "python3"
  },
  "language_info": {
   "codemirror_mode": {
    "name": "ipython",
    "version": 3
   },
   "file_extension": ".py",
   "mimetype": "text/x-python",
   "name": "python",
   "nbconvert_exporter": "python",
   "pygments_lexer": "ipython3",
   "version": "3.10.6"
  },
  "toc": {
   "base_numbering": 1,
   "nav_menu": {},
   "number_sections": true,
   "sideBar": true,
   "skip_h1_title": false,
   "title_cell": "Table of Contents",
   "title_sidebar": "Contents",
   "toc_cell": false,
   "toc_position": {},
   "toc_section_display": true,
   "toc_window_display": false
  }
 },
 "nbformat": 4,
 "nbformat_minor": 5
}
