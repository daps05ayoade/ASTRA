{
 "cells": [
  {
   "cell_type": "markdown",
   "id": "d11f88bf",
   "metadata": {},
   "source": [
    "# Testing"
   ]
  },
  {
   "cell_type": "code",
   "execution_count": 1,
   "id": "6cc6fb47",
   "metadata": {},
   "outputs": [
    {
     "name": "stderr",
     "output_type": "stream",
     "text": [
      "2023-08-15 20:52:04.313407: I tensorflow/core/util/port.cc:110] oneDNN custom operations are on. You may see slightly different numerical results due to floating-point round-off errors from different computation orders. To turn them off, set the environment variable `TF_ENABLE_ONEDNN_OPTS=0`.\n",
      "2023-08-15 20:52:04.358147: I tensorflow/tsl/cuda/cudart_stub.cc:28] Could not find cuda drivers on your machine, GPU will not be used.\n",
      "2023-08-15 20:52:05.119817: I tensorflow/tsl/cuda/cudart_stub.cc:28] Could not find cuda drivers on your machine, GPU will not be used.\n",
      "2023-08-15 20:52:05.124263: I tensorflow/core/platform/cpu_feature_guard.cc:182] This TensorFlow binary is optimized to use available CPU instructions in performance-critical operations.\n",
      "To enable the following instructions: AVX2 AVX512F AVX512_VNNI FMA, in other operations, rebuild TensorFlow with the appropriate compiler flags.\n",
      "2023-08-15 20:52:07.532280: W tensorflow/compiler/tf2tensorrt/utils/py_utils.cc:38] TF-TRT Warning: Could not find TensorRT\n"
     ]
    }
   ],
   "source": [
    "import numpy as np\n",
    "import pandas as pd\n",
    "import requests\n",
    "import warnings\n",
    "warnings.filterwarnings('ignore')\n",
    "import sys\n",
    "sys.path.append('/home/adedapo/personal_project/daps05ayoade/disseration')\n",
    "\n",
    "import os\n",
    "import logging\n",
    "import pandas as pd\n",
    "from tqdm import tqdm\n",
    "from datetime import datetime\n",
    "from concurrent.futures import ThreadPoolExecutor\n",
    "\n",
    "from algotrading.secrecy import API_TOKEN, API_KEY, SECRET_KEY\n",
    "from alpaca.trading.client import TradingClient\n",
    "from algotrading.strategy.algorithm import Model\n",
    "from algotrading.strategy.data_fetcher import DataFetcher\n",
    "from algotrading.strategy.preprocessing import DataProcessing\n",
    "from algotrading.strategy.scoring import Scoring"
   ]
  },
  {
   "cell_type": "code",
   "execution_count": 4,
   "id": "1eac8fa9",
   "metadata": {},
   "outputs": [
    {
     "name": "stderr",
     "output_type": "stream",
     "text": [
      "INFO:root:Initializing get_trading_signals function\n"
     ]
    },
    {
     "name": "stdout",
     "output_type": "stream",
     "text": [
      "Using portfolio size of: $1000000\n"
     ]
    },
    {
     "name": "stderr",
     "output_type": "stream",
     "text": [
      "Fetching metrics:  17%|██████████▉                                                     | 34/198 [00:06<00:34,  4.78it/s]ERROR:root:Error getting metrics for BRK.A: 'PERatio'\n",
      "Fetching metrics: 100%|███████████████████████████████████████████████████████████████| 198/198 [01:19<00:00,  2.48it/s]\n",
      "Fetching sentiment data:   1%|▌                                                       | 2/198 [00:37<1:00:40, 18.57s/it]\n"
     ]
    },
    {
     "ename": "KeyboardInterrupt",
     "evalue": "",
     "output_type": "error",
     "traceback": [
      "\u001b[0;31m---------------------------------------------------------------------------\u001b[0m",
      "\u001b[0;31mKeyboardInterrupt\u001b[0m                         Traceback (most recent call last)",
      "Cell \u001b[0;32mIn [4], line 99\u001b[0m\n\u001b[1;32m     95\u001b[0m     \u001b[38;5;28;01mreturn\u001b[39;00m final_df, portfolio_size\n\u001b[1;32m     98\u001b[0m \u001b[38;5;28;01mif\u001b[39;00m \u001b[38;5;18m__name__\u001b[39m \u001b[38;5;241m==\u001b[39m \u001b[38;5;124m'\u001b[39m\u001b[38;5;124m__main__\u001b[39m\u001b[38;5;124m'\u001b[39m:\n\u001b[0;32m---> 99\u001b[0m     get_trading_signals()\n",
      "Cell \u001b[0;32mIn [4], line 52\u001b[0m, in \u001b[0;36mget_trading_signals\u001b[0;34m()\u001b[0m\n\u001b[1;32m     49\u001b[0m metrics_dfs \u001b[38;5;241m=\u001b[39m data_processing\u001b[38;5;241m.\u001b[39mfetch_metrics(tickers, data_fetcher)\n\u001b[1;32m     51\u001b[0m \u001b[38;5;66;03m# Fetch all sentiment data\u001b[39;00m\n\u001b[0;32m---> 52\u001b[0m sentiment_dfs \u001b[38;5;241m=\u001b[39m \u001b[43mdata_processing\u001b[49m\u001b[38;5;241;43m.\u001b[39;49m\u001b[43mfetch_sentiment\u001b[49m\u001b[43m(\u001b[49m\u001b[43mtickers\u001b[49m\u001b[43m,\u001b[49m\u001b[43m \u001b[49m\u001b[43mdata_fetcher\u001b[49m\u001b[43m)\u001b[49m\n\u001b[1;32m     54\u001b[0m \u001b[38;5;66;03m# Merge and process dataframes\u001b[39;00m\n\u001b[1;32m     55\u001b[0m logging\u001b[38;5;241m.\u001b[39minfo(\u001b[38;5;124m\"\u001b[39m\u001b[38;5;124mMerging and processing dataframes\u001b[39m\u001b[38;5;124m\"\u001b[39m)\n",
      "File \u001b[0;32m~/personal_project/daps05ayoade/disseration/algotrading/strategy/preprocessing.py:102\u001b[0m, in \u001b[0;36mDataProcessing.fetch_sentiment\u001b[0;34m(tickers, data_fetcher)\u001b[0m\n\u001b[1;32m    100\u001b[0m \u001b[38;5;28;01mfor\u001b[39;00m ticker \u001b[38;5;129;01min\u001b[39;00m tqdm(tickers, desc\u001b[38;5;241m=\u001b[39m\u001b[38;5;124m\"\u001b[39m\u001b[38;5;124mFetching sentiment data\u001b[39m\u001b[38;5;124m\"\u001b[39m):\n\u001b[1;32m    101\u001b[0m     \u001b[38;5;28;01mtry\u001b[39;00m:\n\u001b[0;32m--> 102\u001b[0m         sentiment_df \u001b[38;5;241m=\u001b[39m \u001b[43mdata_fetcher\u001b[49m\u001b[38;5;241;43m.\u001b[39;49m\u001b[43mget_sentiment_data\u001b[49m\u001b[43m(\u001b[49m\u001b[43mticker\u001b[49m\u001b[43m)\u001b[49m\n\u001b[1;32m    103\u001b[0m         sentiment_dfs\u001b[38;5;241m.\u001b[39mappend(sentiment_df)\n\u001b[1;32m    104\u001b[0m     \u001b[38;5;28;01mexcept\u001b[39;00m \u001b[38;5;167;01mException\u001b[39;00m \u001b[38;5;28;01mas\u001b[39;00m e:\n",
      "File \u001b[0;32m~/personal_project/daps05ayoade/disseration/algotrading/strategy/data_fetcher.py:133\u001b[0m, in \u001b[0;36mDataFetcher.get_sentiment_data\u001b[0;34m(self, ticker)\u001b[0m\n\u001b[1;32m    129\u001b[0m \u001b[38;5;124;03m\"\"\"\u001b[39;00m\n\u001b[1;32m    130\u001b[0m \u001b[38;5;124;03mFetches and processes sentiment data for a given ticker, returning a dataframe with averaged sentiment scores.\u001b[39;00m\n\u001b[1;32m    131\u001b[0m \u001b[38;5;124;03m\"\"\"\u001b[39;00m\n\u001b[1;32m    132\u001b[0m url \u001b[38;5;241m=\u001b[39m \u001b[38;5;124mf\u001b[39m\u001b[38;5;124m'\u001b[39m\u001b[38;5;124mhttps://www.alphavantage.co/query?function=NEWS_SENTIMENT&tickers=\u001b[39m\u001b[38;5;132;01m{\u001b[39;00mticker\u001b[38;5;132;01m}\u001b[39;00m\u001b[38;5;124m&apikey=\u001b[39m\u001b[38;5;132;01m{\u001b[39;00m\u001b[38;5;28mself\u001b[39m\u001b[38;5;241m.\u001b[39mapi_key\u001b[38;5;132;01m}\u001b[39;00m\u001b[38;5;124m'\u001b[39m\n\u001b[0;32m--> 133\u001b[0m data \u001b[38;5;241m=\u001b[39m \u001b[38;5;28;43mself\u001b[39;49m\u001b[38;5;241;43m.\u001b[39;49m\u001b[43mget_data_from_url\u001b[49m\u001b[43m(\u001b[49m\u001b[43murl\u001b[49m\u001b[43m)\u001b[49m\n\u001b[1;32m    134\u001b[0m ticker_data_list \u001b[38;5;241m=\u001b[39m []\n\u001b[1;32m    136\u001b[0m \u001b[38;5;28;01mfor\u001b[39;00m feed_item \u001b[38;5;129;01min\u001b[39;00m data[\u001b[38;5;124m'\u001b[39m\u001b[38;5;124mfeed\u001b[39m\u001b[38;5;124m'\u001b[39m]:\n",
      "File \u001b[0;32m~/personal_project/daps05ayoade/disseration/algotrading/strategy/data_fetcher.py:21\u001b[0m, in \u001b[0;36mDataFetcher.get_data_from_url\u001b[0;34m(self, url)\u001b[0m\n\u001b[1;32m     17\u001b[0m \u001b[38;5;28;01mdef\u001b[39;00m \u001b[38;5;21mget_data_from_url\u001b[39m(\u001b[38;5;28mself\u001b[39m, url: \u001b[38;5;28mstr\u001b[39m):\n\u001b[1;32m     18\u001b[0m     \u001b[38;5;124;03m\"\"\"\u001b[39;00m\n\u001b[1;32m     19\u001b[0m \u001b[38;5;124;03m    Send a GET request to a URL and return the JSON response.\u001b[39;00m\n\u001b[1;32m     20\u001b[0m \u001b[38;5;124;03m    \"\"\"\u001b[39;00m\n\u001b[0;32m---> 21\u001b[0m     \u001b[38;5;28;01mwith\u001b[39;00m rate_limiter: \u001b[38;5;66;03m# Use the rate limiter\u001b[39;00m\n\u001b[1;32m     22\u001b[0m         response \u001b[38;5;241m=\u001b[39m requests\u001b[38;5;241m.\u001b[39mget(url)\n\u001b[1;32m     23\u001b[0m         response\u001b[38;5;241m.\u001b[39mraise_for_status()\n",
      "File \u001b[0;32m~/.pyenv/versions/3.10.6/envs/Lewagon/lib/python3.10/site-packages/ratelimiter.py:91\u001b[0m, in \u001b[0;36mRateLimiter.__enter__\u001b[0;34m(self)\u001b[0m\n\u001b[1;32m     89\u001b[0m     sleeptime \u001b[38;5;241m=\u001b[39m until \u001b[38;5;241m-\u001b[39m time\u001b[38;5;241m.\u001b[39mtime()\n\u001b[1;32m     90\u001b[0m     \u001b[38;5;28;01mif\u001b[39;00m sleeptime \u001b[38;5;241m>\u001b[39m \u001b[38;5;241m0\u001b[39m:\n\u001b[0;32m---> 91\u001b[0m         \u001b[43mtime\u001b[49m\u001b[38;5;241;43m.\u001b[39;49m\u001b[43msleep\u001b[49m\u001b[43m(\u001b[49m\u001b[43msleeptime\u001b[49m\u001b[43m)\u001b[49m\n\u001b[1;32m     92\u001b[0m \u001b[38;5;28;01mreturn\u001b[39;00m \u001b[38;5;28mself\u001b[39m\n",
      "\u001b[0;31mKeyboardInterrupt\u001b[0m: "
     ]
    }
   ],
   "source": [
    "# Constants\n",
    "DATA_DIR = \"/home/adedapo/personal_project/daps05ayoade/disseration/data\"\n",
    "FILE_NAME = \"200_large_cap_stocks.csv\"\n",
    "OUTPUT_DIR = \"/home/adedapo/personal_project/daps05ayoade/disseration/algotrading/output/Trades\"\n",
    "MODEL_PATH = '/home/adedapo/personal_project/daps05ayoade/disseration/trained-model/'\n",
    "SCALER_PATH = '/home/adedapo/personal_project/daps05ayoade/disseration/fitted-scaler/'\n",
    "WINDOW_SIZE = 60\n",
    "NUM_THREADS = 5\n",
    "\n",
    "logging.basicConfig(level=logging.INFO)\n",
    "trading_client = TradingClient(API_KEY, SECRET_KEY, paper=True)\n",
    "current_date = datetime.now()\n",
    "date_str = current_date.strftime(\"%d-%m-%Y\")\n",
    "\n",
    "\n",
    "\n",
    "def get_trading_signals():\n",
    "    logging.info(\"Initializing get_trading_signals function\")\n",
    "\n",
    "    data_fetcher = DataFetcher(API_TOKEN)\n",
    "    data_processing = DataProcessing()\n",
    "    scoring = Scoring()\n",
    "\n",
    "    portfolio_size = 1000000\n",
    "    print(f'Using portfolio size of: ${portfolio_size}')\n",
    "\n",
    "    file_path = os.path.join(DATA_DIR, FILE_NAME)\n",
    "    symbols_df = pd.read_csv(file_path)\n",
    "    tickers = symbols_df['Ticker'].tolist()\n",
    "#     # tickers = [\"AAPL\", \"MSFT\", \"AMZN\", \"GOOG\"] # Used for Testing\n",
    "\n",
    "#     logging.info(f\"Fetching data for {len(tickers)} tickers\")\n",
    "\n",
    "#     # Fetch all predictions\n",
    "#     ticker_model_pairs = [\n",
    "#         (ticker, Model(f'{MODEL_PATH}best_model_{ticker}.h5', f'{SCALER_PATH}scaler_{ticker}.pkl'))\n",
    "#         for ticker in tickers\n",
    "#     ]\n",
    "\n",
    "#     with ThreadPoolExecutor(max_workers=NUM_THREADS) as executor:\n",
    "#         # Fetch all predictions\n",
    "#         fetch_predictions = lambda pair: data_processing.fetch_predictions(pair, data_fetcher, NUM_THREADS, WINDOW_SIZE)\n",
    "#         predictions_dfs = list(tqdm(executor.map(fetch_predictions, ticker_model_pairs), total=len(ticker_model_pairs), desc=\"Fetching predictions\"))\n",
    "\n",
    "#     # Flatten the list of predictions DataFrames\n",
    "#     predictions_dfs = [df for sublist in predictions_dfs for df in sublist]\n",
    "\n",
    "    # Fetch all metrics\n",
    "    metrics_dfs = data_processing.fetch_metrics(tickers, data_fetcher)\n",
    "\n",
    "    # Fetch all sentiment data\n",
    "    sentiment_dfs = data_processing.fetch_sentiment(tickers, data_fetcher)\n",
    "\n",
    "    # Merge and process dataframes\n",
    "    logging.info(\"Merging and processing dataframes\")\n",
    "    all_metrics_df = pd.concat(metrics_dfs, ignore_index=True)\n",
    "    predictions_df = pd.concat(predictions_dfs, ignore_index=True)\n",
    "    all_sentiment_df = pd.concat(sentiment_dfs, ignore_index=True)\n",
    "\n",
    "    predictions_df = data_processing.calculate_percent_change_and_qv_score(predictions_df, data_fetcher, all_metrics_df)\n",
    "    merged_df = data_processing.merge_dataframes_on_ticker(predictions_df, all_sentiment_df)\n",
    "\n",
    "    ss_w = 1/3\n",
    "    qv_w = 1/3\n",
    "    pc_w = 1/3\n",
    "    weights = {'SentimentScore': ss_w, 'QuantitativeValueScore': qv_w, 'PercentChange': pc_w}\n",
    "    final_df = scoring.rank_and_sort_dataframe(merged_df, weights)\n",
    "\n",
    "    symbol_groups = list(data_processing.split_list(final_df['Ticker'], 6))\n",
    "\n",
    "    logging.info(\"Calculating position sizes and updating dataframe\")\n",
    "\n",
    "    max_position_size = portfolio_size * 0.10\n",
    "    num_signals = len(final_df[final_df['PrimarySignal'].isin(['Buy', 'Sell'])])\n",
    "    position_size = portfolio_size / num_signals if num_signals > 0 else 0\n",
    "    high_risk_threshold = 0  # Define your own risk threshold\n",
    "\n",
    "    for symbol_group in tqdm(symbol_groups, desc=\"Updating dataframe\"):\n",
    "        for ticker in symbol_group:\n",
    "            try:\n",
    "                scoring.process_single_ticker(ticker, API_TOKEN, final_df, position_size, max_position_size, high_risk_threshold, portfolio_size)\n",
    "            except Exception as e:\n",
    "                logging.error(f\"Error processing {ticker}: {e}\")\n",
    "\n",
    "    logging.info(\"Cleaning and saving dataframe\")\n",
    "\n",
    "    final_df['BetaExposure'] = final_df['Beta'] * final_df['Weight']\n",
    "    final_df.drop(columns=['PreviousDayPrice', 'NextDayPrice', 'SentimentScore', 'QuantitativeValueScore', 'PercentChange', 'CompositeScore', 'WeightedAverageSentimentScore', 'Beta', 'Weight'], inplace=True)\n",
    "    final_df.drop(final_df[final_df['PrimarySignal'] == 'Hold'].index, inplace=True)\n",
    "    final_df = final_df.reset_index(drop=True)\n",
    "    final_df = final_df.dropna()\n",
    "\n",
    "    logging.info(final_df)\n",
    "\n",
    "    return final_df, portfolio_size\n",
    "\n",
    "\n",
    "if __name__ == '__main__':\n",
    "    get_trading_signals()"
   ]
  },
  {
   "cell_type": "code",
   "execution_count": null,
   "id": "500f7808",
   "metadata": {},
   "outputs": [],
   "source": []
  }
 ],
 "metadata": {
  "kernelspec": {
   "display_name": "Python 3 (ipykernel)",
   "language": "python",
   "name": "python3"
  },
  "language_info": {
   "codemirror_mode": {
    "name": "ipython",
    "version": 3
   },
   "file_extension": ".py",
   "mimetype": "text/x-python",
   "name": "python",
   "nbconvert_exporter": "python",
   "pygments_lexer": "ipython3",
   "version": "3.10.6"
  },
  "toc": {
   "base_numbering": 1,
   "nav_menu": {},
   "number_sections": true,
   "sideBar": true,
   "skip_h1_title": false,
   "title_cell": "Table of Contents",
   "title_sidebar": "Contents",
   "toc_cell": false,
   "toc_position": {},
   "toc_section_display": true,
   "toc_window_display": false
  }
 },
 "nbformat": 4,
 "nbformat_minor": 5
}
