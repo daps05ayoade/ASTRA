{
 "cells": [
  {
   "cell_type": "code",
   "execution_count": 1,
   "id": "4a3a5f70",
   "metadata": {},
   "outputs": [],
   "source": [
    "import os\n",
    "import numpy as np\n",
    "import pandas as pd\n",
    "import requests\n",
    "import matplotlib.pyplot as plt\n",
    "import warnings\n",
    "warnings.filterwarnings('ignore')\n",
    "import sys\n",
    "sys.path.append('/home/adedapo/personal_project/daps05ayoade/disseration')\n",
    "from algotrading.ml_logic.secrecy import API_TOKEN"
   ]
  },
  {
   "cell_type": "code",
   "execution_count": 2,
   "id": "ae6da514",
   "metadata": {},
   "outputs": [],
   "source": [
    "data_dir = \"/home/adedapo/personal_project/daps05ayoade/disseration/data\"\n",
    "file_name = \"50_tech_stocks.csv\"\n",
    "file_path = os.path.join(data_dir, file_name)\n",
    "symbols_df = pd.read_csv(file_path)\n",
    "ticker = [ticker for ticker in symbols_df['Ticker']]"
   ]
  },
  {
   "cell_type": "code",
   "execution_count": 3,
   "id": "6769a3fc",
   "metadata": {},
   "outputs": [],
   "source": [
    "import os\n",
    "import time\n",
    "import requests\n",
    "import pandas as pd\n",
    "\n",
    "class TechnicalDataFetcher:\n",
    "    DELAY = 60  # specify your delay here in seconds\n",
    "\n",
    "    def __init__(self, api_key):\n",
    "        self.api_key = api_key\n",
    "        self.last_request_time = None\n",
    "\n",
    "    def get_data_from_url(self, url):\n",
    "        \"\"\"\n",
    "        Send a GET request to a URL and return the JSON response.\n",
    "        \"\"\"\n",
    "        if self.last_request_time is not None:\n",
    "            # If less than the required delay has passed since the last request, sleep\n",
    "            time_since_last_request = time.time() - self.last_request_time\n",
    "            if time_since_last_request < self.DELAY:\n",
    "                time.sleep(self.DELAY - time_since_last_request)\n",
    "\n",
    "        response = requests.get(url)\n",
    "        response.raise_for_status()\n",
    "\n",
    "        self.last_request_time = time.time()\n",
    "\n",
    "        return response.json()\n",
    "\n",
    "    def get_technical_data(self, symbol: str, feature: str):\n",
    "        \"\"\"\n",
    "        Fetch technical data for a specific stock symbol and feature from Alpha Vantage.\n",
    "        \"\"\"\n",
    "        url = f'https://www.alphavantage.co/query?function={feature}&symbol={symbol}&interval=daily&time_period=60&series_type=open&apikey={self.api_key}'\n",
    "        data = self.get_data_from_url(url)\n",
    "        return pd.DataFrame(data['Technical Analysis: ' + feature]).T if 'Technical Analysis: ' + feature in data else None\n",
    "\n",
    "    def check_tickers_for_technical_data(self, data_dir, file_name):\n",
    "        file_path = os.path.join(data_dir, file_name)\n",
    "        symbols_df = pd.read_csv(file_path)\n",
    "        tickers = [ticker for ticker in symbols_df['Ticker']]\n",
    "        features = ['SMA', 'RSI', 'ADX', 'CCI', 'ATR', 'EMA']\n",
    "        \n",
    "        for ticker in tickers:\n",
    "            df = pd.DataFrame()\n",
    "            for feature in features:\n",
    "                feature_data = self.get_technical_data(ticker, feature)\n",
    "                if feature_data is not None:\n",
    "                    df = df.merge(feature_data, left_index=True, right_index=True) if not df.empty else feature_data\n",
    "\n",
    "            if not df.empty:\n",
    "                print(f'Ticker: {ticker} has the following technical data:')\n",
    "                print(df)\n",
    "            else:\n",
    "                print(f'Ticker: {ticker} does not have any of the specified technical data.')"
   ]
  },
  {
   "cell_type": "code",
   "execution_count": null,
   "id": "adc754d9",
   "metadata": {},
   "outputs": [],
   "source": [
    "# Usage\n",
    "fetcher = TechnicalDataFetcher(api_key=API_TOKEN)\n",
    "fetcher.check_tickers_for_technical_data(\"/home/adedapo/personal_project/daps05ayoade/disseration/data\", \"50_tech_stocks.csv\")"
   ]
  }
 ],
 "metadata": {
  "kernelspec": {
   "display_name": "Python 3 (ipykernel)",
   "language": "python",
   "name": "python3"
  },
  "language_info": {
   "codemirror_mode": {
    "name": "ipython",
    "version": 3
   },
   "file_extension": ".py",
   "mimetype": "text/x-python",
   "name": "python",
   "nbconvert_exporter": "python",
   "pygments_lexer": "ipython3",
   "version": "3.10.6"
  },
  "toc": {
   "base_numbering": 1,
   "nav_menu": {},
   "number_sections": true,
   "sideBar": true,
   "skip_h1_title": false,
   "title_cell": "Table of Contents",
   "title_sidebar": "Contents",
   "toc_cell": false,
   "toc_position": {},
   "toc_section_display": true,
   "toc_window_display": false
  }
 },
 "nbformat": 4,
 "nbformat_minor": 5
}
