{
 "cells": [
  {
   "cell_type": "markdown",
   "id": "6e60f19d",
   "metadata": {},
   "source": [
    "# Libraries"
   ]
  },
  {
   "cell_type": "code",
   "execution_count": 1,
   "id": "ec90016c",
   "metadata": {},
   "outputs": [],
   "source": [
    "import pandas as pd\n",
    "import requests\n",
    "import json\n",
    "from datetime import datetime\n",
    "import sys\n",
    "sys.path.append('/home/adedapo/personal_project/daps05ayoade/disseration')\n",
    "from algotrading.secrecy import API_KEY, API_TOKEN\n",
    "from algotrading.strategy.data_fetcher import DataFetcher\n",
    "import math"
   ]
  },
  {
   "cell_type": "markdown",
   "id": "ab5b6522",
   "metadata": {},
   "source": [
    "# Sentimental Scoring"
   ]
  },
  {
   "cell_type": "code",
   "execution_count": 2,
   "id": "8d2b950b",
   "metadata": {},
   "outputs": [],
   "source": [
    "symbol = 'AAPl'\n",
    "url = f'https://www.alphavantage.co/query?function=NEWS_SENTIMENT&tickers={symbol}&apikey={API_TOKEN}'\n",
    "response = requests.get(url)\n",
    "data = response.json()"
   ]
  },
  {
   "cell_type": "code",
   "execution_count": 9,
   "id": "8845b802",
   "metadata": {},
   "outputs": [],
   "source": [
    "ticker_data_list = []\n",
    "\n",
    "for feed_item in data['feed']:\n",
    "    for ticker_data in feed_item[\"ticker_sentiment\"]:\n",
    "        if ticker_data['ticker'] == 'AAPL':\n",
    "            ticker_item = {\n",
    "                'ticker': 'AAPL',\n",
    "                'relevance_score': float(ticker_data['relevance_score']),\n",
    "                'ticker_sentiment_score': float(ticker_data['ticker_sentiment_score']),\n",
    "                'ticker_sentiment_label': ticker_data['ticker_sentiment_label']\n",
    "            }\n",
    "            ticker_data_list.append(ticker_item)"
   ]
  },
  {
   "cell_type": "code",
   "execution_count": 10,
   "id": "1385f60b",
   "metadata": {},
   "outputs": [],
   "source": [
    "df = pd.DataFrame(ticker_data_list)"
   ]
  },
  {
   "cell_type": "code",
   "execution_count": 16,
   "id": "ff3caea0",
   "metadata": {},
   "outputs": [
    {
     "data": {
      "text/html": [
       "<div>\n",
       "<style scoped>\n",
       "    .dataframe tbody tr th:only-of-type {\n",
       "        vertical-align: middle;\n",
       "    }\n",
       "\n",
       "    .dataframe tbody tr th {\n",
       "        vertical-align: top;\n",
       "    }\n",
       "\n",
       "    .dataframe thead th {\n",
       "        text-align: right;\n",
       "    }\n",
       "</style>\n",
       "<table border=\"1\" class=\"dataframe\">\n",
       "  <thead>\n",
       "    <tr style=\"text-align: right;\">\n",
       "      <th></th>\n",
       "      <th>relevance_score</th>\n",
       "      <th>ticker_sentiment_score</th>\n",
       "    </tr>\n",
       "  </thead>\n",
       "  <tbody>\n",
       "    <tr>\n",
       "      <th>count</th>\n",
       "      <td>50.000000</td>\n",
       "      <td>50.000000</td>\n",
       "    </tr>\n",
       "    <tr>\n",
       "      <th>mean</th>\n",
       "      <td>0.245076</td>\n",
       "      <td>0.103460</td>\n",
       "    </tr>\n",
       "    <tr>\n",
       "      <th>std</th>\n",
       "      <td>0.208480</td>\n",
       "      <td>0.180950</td>\n",
       "    </tr>\n",
       "    <tr>\n",
       "      <th>min</th>\n",
       "      <td>0.038655</td>\n",
       "      <td>-0.288932</td>\n",
       "    </tr>\n",
       "    <tr>\n",
       "      <th>25%</th>\n",
       "      <td>0.115371</td>\n",
       "      <td>0.007246</td>\n",
       "    </tr>\n",
       "    <tr>\n",
       "      <th>50%</th>\n",
       "      <td>0.137806</td>\n",
       "      <td>0.092812</td>\n",
       "    </tr>\n",
       "    <tr>\n",
       "      <th>75%</th>\n",
       "      <td>0.312867</td>\n",
       "      <td>0.180934</td>\n",
       "    </tr>\n",
       "    <tr>\n",
       "      <th>max</th>\n",
       "      <td>0.841655</td>\n",
       "      <td>0.460494</td>\n",
       "    </tr>\n",
       "  </tbody>\n",
       "</table>\n",
       "</div>"
      ],
      "text/plain": [
       "       relevance_score  ticker_sentiment_score\n",
       "count        50.000000               50.000000\n",
       "mean          0.245076                0.103460\n",
       "std           0.208480                0.180950\n",
       "min           0.038655               -0.288932\n",
       "25%           0.115371                0.007246\n",
       "50%           0.137806                0.092812\n",
       "75%           0.312867                0.180934\n",
       "max           0.841655                0.460494"
      ]
     },
     "execution_count": 16,
     "metadata": {},
     "output_type": "execute_result"
    }
   ],
   "source": [
    "# Summary statistics\n",
    "summary_stats = df[['relevance_score', 'ticker_sentiment_score']].describe()\n",
    "summary_stats"
   ]
  },
  {
   "cell_type": "code",
   "execution_count": 38,
   "id": "6b4727d6",
   "metadata": {},
   "outputs": [
    {
     "name": "stdout",
     "output_type": "stream",
     "text": [
      "Neutral             28\n",
      "Somewhat-Bullish    10\n",
      "Bullish              7\n",
      "Somewhat-Bearish     5\n",
      "Name: ticker_sentiment_label, dtype: int64\n"
     ]
    },
    {
     "data": {
      "image/png": "[encoded data removed]",
      "text/plain": [
       "<Figure size 600x600 with 1 Axes>"
      ]
     },
     "metadata": {},
     "output_type": "display_data"
    }
   ],
   "source": [
    "# Sentiment distribution\n",
    "sentiment_distribution = df['ticker_sentiment_label'].value_counts()\n",
    "print(sentiment_distribution)\n",
    "\n",
    "# Set up the figure and axes\n",
    "fig, ax = plt.subplots(figsize=(6, 6))\n",
    "\n",
    "# Plotting the sentiment distribution\n",
    "sentiment_distribution.plot(kind='bar', color=['skyblue', 'lightgreen', 'green', 'salmon'])\n",
    "ax.set_title('Sentiment Distribution for AAPL')\n",
    "ax.set_xlabel('Sentiment Label')\n",
    "ax.set_ylabel('Frequency')\n",
    "ax.grid(axis='y')\n",
    "\n",
    "# Adjust layout\n",
    "plt.tight_layout()\n",
    "plt.show()"
   ]
  },
  {
   "cell_type": "code",
   "execution_count": 18,
   "id": "4016ad98",
   "metadata": {},
   "outputs": [
    {
     "data": {
      "text/plain": [
       "0.14925080244456798"
      ]
     },
     "execution_count": 18,
     "metadata": {},
     "output_type": "execute_result"
    }
   ],
   "source": [
    "# Weighted average sentiment score\n",
    "df['weighted_sentiment'] = df['relevance_score'] * df['ticker_sentiment_score']\n",
    "weighted_avg_sentiment = df['weighted_sentiment'].sum() / df['relevance_score'].sum()\n",
    "weighted_avg_sentiment"
   ]
  },
  {
   "cell_type": "code",
   "execution_count": 37,
   "id": "21fe1ec2",
   "metadata": {},
   "outputs": [
    {
     "data": {
      "image/png": "[encoded data removed]",
      "text/plain": [
       "<Figure size 600x600 with 1 Axes>"
      ]
     },
     "metadata": {},
     "output_type": "display_data"
    }
   ],
   "source": [
    "# Set up the figure and axes\n",
    "fig, ax = plt.subplots(figsize=(6, 6))\n",
    "\n",
    "# Plotting the histogram for sentiment scores\n",
    "df['ticker_sentiment_score'].plot(kind='hist', bins=20, color='purple', alpha=0.7)\n",
    "ax.set_title('Distribution of Sentiment Scores for AAPL')\n",
    "ax.set_xlabel('Sentiment Score')\n",
    "ax.set_ylabel('Frequency')\n",
    "ax.grid(axis='y')\n",
    "\n",
    "# Adjust layout\n",
    "plt.tight_layout()\n",
    "plt.show()"
   ]
  },
  {
   "cell_type": "code",
   "execution_count": 9,
   "id": "002e6071",
   "metadata": {},
   "outputs": [],
   "source": [
    "import requests\n",
    "import pandas as pd\n",
    "\n",
    "def get_sentiment_data(ticker, api_key, data_fetcher):\n",
    "    \"\"\"\n",
    "    Fetches and processes sentiment data for a given ticker, returning a dataframe with averaged sentiment scores.\n",
    "    \"\"\"\n",
    "    url = f'https://www.alphavantage.co/query?function=NEWS_SENTIMENT&tickers={ticker}&apikey={api_key}'\n",
    "    data = data_fetcher.get_data_from_url(url)\n",
    "    ticker_data_list = []\n",
    "\n",
    "    for feed_item in data['feed']:\n",
    "        for ticker_data in feed_item[\"ticker_sentiment\"]:\n",
    "            if ticker_data['ticker'] == ticker:\n",
    "                ticker_item = {\n",
    "                    'ticker': ticker,\n",
    "                    'relevance_score': float(ticker_data['relevance_score']),\n",
    "                    'ticker_sentiment_score': float(ticker_data['ticker_sentiment_score']),\n",
    "                    'ticker_sentiment_label': ticker_data['ticker_sentiment_label'],\n",
    "                }\n",
    "                ticker_data_list.append(ticker_item)\n",
    "\n",
    "    sentiment_df = pd.DataFrame(ticker_data_list)\n",
    "\n",
    "    sentiment_mapping = {\n",
    "        \"Very-Bullish\": 5,\n",
    "        \"Bullish\": 4,\n",
    "        \"Somewhat-Bullish\": 3,\n",
    "        \"Neutral\": 2,\n",
    "        \"Somewhat-Bearish\": 1,\n",
    "        \"Bearish\": 0,\n",
    "        \"Very-Bearish\": -1\n",
    "    }\n",
    "\n",
    "    sentiment_df['SentimentScore'] = sentiment_df['ticker_sentiment_label'].map(sentiment_mapping)\n",
    "    sentiment_df['SentimentScore'] = sentiment_df['SentimentScore'].astype(int)\n",
    "    sentiment_df['WeightedAverageSentimentScore'] = (sentiment_df['ticker_sentiment_score'] * sentiment_df['relevance_score']).sum() / sentiment_df['relevance_score'].sum()\n",
    "\n",
    "    sentiment_df.drop(columns=['relevance_score', 'ticker_sentim`ent_score', 'ticker_sentiment_label'], inplace=True)\n",
    "\n",
    "    sentiment_df = sentiment_df.groupby('ticker').mean().reset_index()\n",
    "\n",
    "    sentiment_df['SentimentScore'] = sentiment_df['SentimentScore']\n",
    "\n",
    "    return sentiment_df"
   ]
  },
  {
   "cell_type": "code",
   "execution_count": 12,
   "id": "aef42223",
   "metadata": {},
   "outputs": [],
   "source": [
    "data_fetcher = DataFetcher(API_TOKEN)\n",
    "\n",
    "sentiment_df = get_sentiment_data('AAPL', API_TOKEN, data_fetcher)"
   ]
  },
  {
   "cell_type": "code",
   "execution_count": 13,
   "id": "3c2e2f23",
   "metadata": {},
   "outputs": [
    {
     "data": {
      "text/html": [
       "<div>\n",
       "<style scoped>\n",
       "    .dataframe tbody tr th:only-of-type {\n",
       "        vertical-align: middle;\n",
       "    }\n",
       "\n",
       "    .dataframe tbody tr th {\n",
       "        vertical-align: top;\n",
       "    }\n",
       "\n",
       "    .dataframe thead th {\n",
       "        text-align: right;\n",
       "    }\n",
       "</style>\n",
       "<table border=\"1\" class=\"dataframe\">\n",
       "  <thead>\n",
       "    <tr style=\"text-align: right;\">\n",
       "      <th></th>\n",
       "      <th>ticker</th>\n",
       "      <th>SentimentScore</th>\n",
       "      <th>WeightedAverageSentimentScore</th>\n",
       "    </tr>\n",
       "  </thead>\n",
       "  <tbody>\n",
       "    <tr>\n",
       "      <th>0</th>\n",
       "      <td>AAPL</td>\n",
       "      <td>2.38</td>\n",
       "      <td>0.149251</td>\n",
       "    </tr>\n",
       "  </tbody>\n",
       "</table>\n",
       "</div>"
      ],
      "text/plain": [
       "  ticker  SentimentScore  WeightedAverageSentimentScore\n",
       "0   AAPL            2.38                       0.149251"
      ]
     },
     "execution_count": 13,
     "metadata": {},
     "output_type": "execute_result"
    }
   ],
   "source": [
    "sentiment_df"
   ]
  }
 ],
 "metadata": {
  "kernelspec": {
   "display_name": "Python 3 (ipykernel)",
   "language": "python",
   "name": "python3"
  },
  "language_info": {
   "codemirror_mode": {
    "name": "ipython",
    "version": 3
   },
   "file_extension": ".py",
   "mimetype": "text/x-python",
   "name": "python",
   "nbconvert_exporter": "python",
   "pygments_lexer": "ipython3",
   "version": "3.10.6"
  },
  "toc": {
   "base_numbering": 1,
   "nav_menu": {},
   "number_sections": true,
   "sideBar": true,
   "skip_h1_title": false,
   "title_cell": "Table of Contents",
   "title_sidebar": "Contents",
   "toc_cell": false,
   "toc_position": {},
   "toc_section_display": true,
   "toc_window_display": false
  }
 },
 "nbformat": 4,
 "nbformat_minor": 5
}
