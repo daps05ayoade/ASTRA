{
 "cells": [
  {
   "cell_type": "code",
   "execution_count": 2,
   "id": "9ffdce61",
   "metadata": {},
   "outputs": [],
   "source": [
    "import numpy as np\n",
    "import pandas as pd\n",
    "import seaborn as sns\n",
    "import matplotlib.pyplot as plt\n",
    "import alpaca_trade_api as tradeapi\n",
    "\n",
    "import sys\n",
    "sys.path.append('/home/adedapo/personal_project/daps05ayoade/disseration')\n",
    "\n",
    "\n",
    "from algotrading.secrecy import API_KEY, SECRET_KEY, BASE_URL"
   ]
  },
  {
   "cell_type": "code",
   "execution_count": 3,
   "id": "78422628",
   "metadata": {},
   "outputs": [],
   "source": [
    "trading_client = tradeapi.REST(API_KEY, SECRET_KEY, BASE_URL)"
   ]
  },
  {
   "cell_type": "code",
   "execution_count": 4,
   "id": "1f00ed84",
   "metadata": {},
   "outputs": [
    {
     "name": "stdout",
     "output_type": "stream",
     "text": [
      "Account Balance: $985634.03\n",
      "Portfolio Value: $985634.03\n",
      "Profit/Loss: $0.0\n",
      "Is Day Trader: True\n",
      "Buying Power: $3942536.12\n"
     ]
    }
   ],
   "source": [
    "# Get account information\n",
    "account = trading_client.get_account()\n",
    "\n",
    "# Extract metrics\n",
    "account_balance = account.cash\n",
    "portfolio_value = account.portfolio_value\n",
    "profit_or_loss = float(portfolio_value) - float(account_balance)\n",
    "is_day_trader = account.pattern_day_trader\n",
    "buying_power = account.buying_power\n",
    "\n",
    "# Display the metrics\n",
    "print(f\"Account Balance: ${account_balance}\")\n",
    "print(f\"Portfolio Value: ${portfolio_value}\")\n",
    "print(f\"Profit/Loss: ${profit_or_loss}\")\n",
    "print(f\"Is Day Trader: {is_day_trader}\")\n",
    "print(f\"Buying Power: ${buying_power}\")"
   ]
  },
  {
   "cell_type": "code",
   "execution_count": 29,
   "id": "30f4bfe0",
   "metadata": {},
   "outputs": [
    {
     "name": "stdout",
     "output_type": "stream",
     "text": [
      "Average Equity: $996581.13\n",
      "Total Profit/Loss: $-14365.97\n",
      "Total Percentage Profit/Loss: -1.44%\n",
      "Starting Equity: $1000000.00\n",
      "Ending Equity: $985634.03\n"
     ]
    }
   ],
   "source": [
    "import requests\n",
    "import json\n",
    "\n",
    "url = \"https://paper-api.alpaca.markets/v2/account/portfolio/history\"\n",
    "\n",
    "headers = {\n",
    "    \"accept\": \"application/json\",\n",
    "    \"APCA-API-KEY-ID\": API_KEY,\n",
    "    \"APCA-API-SECRET-KEY\": SECRET_KEY\n",
    "}\n",
    "\n",
    "response = requests.get(url, headers=headers)\n",
    "data = response.json()\n",
    "\n",
    "# Extract data\n",
    "timestamps = data[\"timestamp\"]\n",
    "equity = data[\"equity\"]\n",
    "profit_loss = [x for x in data['profit_loss'] if x is not None]\n",
    "profit_loss_pct = [x for x in data[\"profit_loss_pct\"] if x is not None]*100\n",
    "\n",
    "# Filter out null values and calculate metrics\n",
    "equity = [x for x in equity if x is not None]\n",
    "avg_equity = sum(equity) / len(equity)\n",
    "total_profit_loss = sum(profit_loss)\n",
    "total_profit_loss_pct = sum(profit_loss_pct)\n",
    "\n",
    "# Display metrics\n",
    "print(f\"Average Equity: ${avg_equity:.2f}\")\n",
    "print(f\"Total Profit/Loss: ${total_profit_loss:.2f}\")\n",
    "print(f\"Total Percentage Profit/Loss: {total_profit_loss_pct:.2f}%\")\n",
    "print(f\"Starting Equity: ${equity[0]:.2f}\")\n",
    "print(f\"Ending Equity: ${equity[-1]:.2f}\")"
   ]
  },
  {
   "cell_type": "code",
   "execution_count": 31,
   "id": "2b2fd4d6",
   "metadata": {},
   "outputs": [
    {
     "name": "stdout",
     "output_type": "stream",
     "text": [
      "Volatility of Returns (Std Dev): 0.00%\n",
      "Max Daily Drawdown: -0.02%\n"
     ]
    }
   ],
   "source": [
    "# 1. Volatility of Returns\n",
    "volatility = np.std(profit_loss_pct)\n",
    "print(f\"Volatility of Returns (Std Dev): {volatility:.2f}%\")\n",
    "\n",
    "# 2. Max Drawdown\n",
    "rolling_max = np.maximum.accumulate(equity)  # Computes the running maximum\n",
    "daily_drawdown = (equity/rolling_max) - 1.0\n",
    "max_daily_drawdown = np.min(daily_drawdown)\n",
    "print(f\"Max Daily Drawdown: {max_daily_drawdown:.2f}%\")"
   ]
  },
  {
   "cell_type": "code",
   "execution_count": 33,
   "id": "19ed2395",
   "metadata": {},
   "outputs": [
    {
     "name": "stdout",
     "output_type": "stream",
     "text": [
      "Sharpe Ratio: -0.3960\n"
     ]
    }
   ],
   "source": [
    "import numpy as np\n",
    "\n",
    "# Convert annual T-bill yield to daily rate\n",
    "R_f_daily = (1 + 0.0528)**(1/252) - 1\n",
    "\n",
    "# Calculate the average daily return\n",
    "R_p_daily = np.mean(profit_loss_pct)\n",
    "\n",
    "# Calculate portfolio volatility (daily)\n",
    "sigma_p_daily = np.std(profit_loss_pct)\n",
    "\n",
    "# Compute Sharpe Ratio\n",
    "sharpe_ratio = (R_p_daily - R_f_daily) / sigma_p_daily\n",
    "print(f\"Sharpe Ratio: {sharpe_ratio:.4f}\")"
   ]
  },
  {
   "cell_type": "code",
   "execution_count": 32,
   "id": "fbda9190",
   "metadata": {},
   "outputs": [
    {
     "data": {
      "image/png": "[encoded data removed]",
      "text/plain": [
       "<Figure size 640x480 with 1 Axes>"
      ]
     },
     "metadata": {},
     "output_type": "display_data"
    }
   ],
   "source": [
    "# 3. Daily Profit/Loss Distribution\n",
    "plt.hist(profit_loss, bins=20, color='blue', alpha=0.7)\n",
    "plt.title(\"Distribution of Daily Profit/Loss\")\n",
    "plt.xlabel(\"Profit/Loss\")\n",
    "plt.ylabel(\"Frequency\")\n",
    "plt.grid(True, alpha=0.2)\n",
    "plt.show()"
   ]
  }
 ],
 "metadata": {
  "kernelspec": {
   "display_name": "Python 3 (ipykernel)",
   "language": "python",
   "name": "python3"
  },
  "language_info": {
   "codemirror_mode": {
    "name": "ipython",
    "version": 3
   },
   "file_extension": ".py",
   "mimetype": "text/x-python",
   "name": "python",
   "nbconvert_exporter": "python",
   "pygments_lexer": "ipython3",
   "version": "3.10.6"
  },
  "toc": {
   "base_numbering": 1,
   "nav_menu": {},
   "number_sections": true,
   "sideBar": true,
   "skip_h1_title": false,
   "title_cell": "Table of Contents",
   "title_sidebar": "Contents",
   "toc_cell": false,
   "toc_position": {},
   "toc_section_display": true,
   "toc_window_display": false
  }
 },
 "nbformat": 4,
 "nbformat_minor": 5
}
